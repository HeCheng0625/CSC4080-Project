{
 "cells": [
  {
   "cell_type": "markdown",
   "metadata": {},
   "source": [
    "# An automatic diagnosis software for detecting the degree of diabetic retinopathy\n",
    "by using a subset of the APTOS 2019 dataset"
   ]
  },
  {
   "cell_type": "code",
   "execution_count": 1,
   "metadata": {},
   "outputs": [],
   "source": [
    "from PIL import Image\n",
    "import IPython.display\n",
    "import torchvision.transforms as transforms\n",
    "import torchvision.models as models\n",
    "import numpy as np\n",
    "import torch\n",
    "import torch.nn as nn\n",
    "import torch.nn.functional as F\n",
    "\n",
    "device = 'cuda' if torch.cuda.is_available() else 'cpu'"
   ]
  },
  {
   "cell_type": "markdown",
   "metadata": {},
   "source": [
    "## Load Model"
   ]
  },
  {
   "cell_type": "code",
   "execution_count": 2,
   "metadata": {},
   "outputs": [
    {
     "name": "stdout",
     "output_type": "stream",
     "text": [
      "Model: ResNet18 with pre-trained intial weights\n"
     ]
    }
   ],
   "source": [
    "transform = transforms.Compose([\n",
    "    transforms.Resize((224, 224)),\n",
    "    transforms.ToTensor(),\n",
    "    transforms.Normalize([0.485, 0.456, 0.406], [0.229, 0.224, 0.225])\n",
    "])\n",
    "\n",
    "predict_model = models.resnet18()\n",
    "predict_model.fc = nn.Linear(512, 5)\n",
    "\n",
    "predict_model.to(device)\n",
    "predict_model.load_state_dict(torch.load('resnet18_pretrained'))\n",
    "print('Model: ResNet18 with pre-trained intial weights')"
   ]
  },
  {
   "cell_type": "markdown",
   "metadata": {},
   "source": [
    "## Predict result\n",
    "\n",
    "There are 5 class and each image is rated for the severity of diabetic retinopathy on a scale of 0 to 4.\n",
    "\n",
    "class 0: No DR\n",
    "\n",
    "class 1: Mild\n",
    "\n",
    "class 2: Moderate\n",
    "\n",
    "class 3: Severe\n",
    "\n",
    "class 4: Proliferative DR"
   ]
  },
  {
   "cell_type": "code",
   "execution_count": null,
   "metadata": {},
   "outputs": [],
   "source": [
    "# input the image path\n",
    "# you can choose (just for show):\n",
    "# show_images/show0.png      (class 0)\n",
    "# show_images/show1.png      (class 1)\n",
    "# show_images/show2.png      (class 2)\n",
    "# show_images/show3.png      (class 3)\n",
    "# show_images/show4.png      (class 4)\n",
    "path_img = input()\n",
    "print(\"Input image:\")\n",
    "IPython.display.display(IPython.display.Image(path_img, width=250, height=200))\n",
    "img = Image.open(path_img).convert('RGB')\n",
    "img = transform(img).view(1, 3, 224, 224)\n",
    "img = img.to(device)\n",
    "\n",
    "# predict\n",
    "print('There are 5 class and each image is rated for the severity of diabetic retinopathy on a scale of 0 to 4.')\n",
    "predict_model.eval()\n",
    "with torch.no_grad():\n",
    "    output = predict_model(img)\n",
    "    probabilities = F.softmax(output, dim=1).view(-1).cpu().numpy().tolist()\n",
    "    print('The probabilities of each classes:')\n",
    "    p_dict = {'0 No DR': probabilities[0], '1 Mild': probabilities[1],\n",
    "    '2 Moderate': probabilities[2], '3 Severe': probabilities[3], '4 Proliferative DR': probabilities[4]}\n",
    "    print(p_dict)\n",
    "    predicted = probabilities.index(max(probabilities))\n",
    "    print(\"The most likely result:\")\n",
    "    print('class:', predicted)\n",
    "    probabilities[predicted] = 0\n",
    "    predicted = probabilities.index(max(probabilities))\n",
    "    print(\"The second possible result:\")\n",
    "    print('class:', predicted)"
   ]
  }
 ],
 "metadata": {
  "interpreter": {
   "hash": "61dd0e9fca73d993dce8fd26eb066813c398e8547ba5df7c5876aeaa35e9886b"
  },
  "kernelspec": {
   "display_name": "Python 3.8.8 ('base')",
   "language": "python",
   "name": "python3"
  },
  "language_info": {
   "codemirror_mode": {
    "name": "ipython",
    "version": 3
   },
   "file_extension": ".py",
   "mimetype": "text/x-python",
   "name": "python",
   "nbconvert_exporter": "python",
   "pygments_lexer": "ipython3",
   "version": "3.8.8"
  },
  "orig_nbformat": 4
 },
 "nbformat": 4,
 "nbformat_minor": 2
}
